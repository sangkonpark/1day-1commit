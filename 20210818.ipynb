{
  "nbformat": 4,
  "nbformat_minor": 0,
  "metadata": {
    "colab": {
      "name": "20210818.ipynb",
      "private_outputs": true,
      "provenance": [],
      "authorship_tag": "ABX9TyNVLMNcLUk4ebnhll57I3l6",
      "include_colab_link": true
    },
    "kernelspec": {
      "name": "python3",
      "display_name": "Python 3"
    },
    "language_info": {
      "name": "python"
    }
  },
  "cells": [
    {
      "cell_type": "markdown",
      "metadata": {
        "id": "view-in-github",
        "colab_type": "text"
      },
      "source": [
        "<a href=\"https://colab.research.google.com/github/sangkonpark/1day-1commit/blob/main/20210818.ipynb\" target=\"_parent\"><img src=\"https://colab.research.google.com/assets/colab-badge.svg\" alt=\"Open In Colab\"/></a>"
      ]
    },
    {
      "cell_type": "markdown",
      "metadata": {
        "id": "C9OJs7YpdMxu"
      },
      "source": [
        "# 02-7 불 자료형"
      ]
    },
    {
      "cell_type": "markdown",
      "metadata": {
        "id": "lLPBoSpodO55"
      },
      "source": [
        "불(bool) 자료형이란 참(True)과 거짓(False)을 나타내는 자료형이다. 불 자료형은 다음 2가지 값만을 가질 수 있다."
      ]
    },
    {
      "cell_type": "markdown",
      "metadata": {
        "id": "_-adg9UXdoW5"
      },
      "source": [
        "자료형에 참과 거짓이 있다? 조금 이상하게 들리겠지만 참과 거짓은 분명히 있다. 이는 매우 중요한 특징이며 실제로도 자주 쓰인다.\n",
        "\n",
        "문자열, 리스트, 튜플, 딕셔너리 등의 값이 비어 있으면(\" \", [ ], ( ), { }) 거짓이 된다. 당연히 비어있지 않으면 참이 된다. 숫자에서는 그 값이 0일 때 거짓이 된다. None은 거짓을 뜻한다는 것만 알아두자."
      ]
    },
    {
      "cell_type": "code",
      "metadata": {
        "id": "6CZTE3rudJDK"
      },
      "source": [
        "a = [1,2,3,4]\n",
        "while a:\n",
        "    print(a.pop())"
      ],
      "execution_count": null,
      "outputs": []
    },
    {
      "cell_type": "markdown",
      "metadata": {
        "id": "GfWiZ6aBebQn"
      },
      "source": [
        "# 02-8 자료형의 값을 저장하는 공간, 변수"
      ]
    },
    {
      "cell_type": "markdown",
      "metadata": {
        "id": "KgDMWxK7eflE"
      },
      "source": [
        "변수란?\n",
        "\n",
        "파이썬에서 사용하는 변수는 객체를 가리키는 것이라고도 말할 수 있다. 객체란 우리가 지금껏 보아 온 자료형과 같은 것을 의미하는 말이다."
      ]
    },
    {
      "cell_type": "markdown",
      "metadata": {
        "id": "_yEFg2Epe9gZ"
      },
      "source": [
        "리스트를 복사하고자 할 때"
      ]
    },
    {
      "cell_type": "code",
      "metadata": {
        "id": "BV_UhboPefAo"
      },
      "source": [
        "a = [1,2,3]\n",
        "b = a"
      ],
      "execution_count": null,
      "outputs": []
    },
    {
      "cell_type": "code",
      "metadata": {
        "id": "wSW7xAuOeLNQ"
      },
      "source": [
        "id(a)"
      ],
      "execution_count": null,
      "outputs": []
    },
    {
      "cell_type": "code",
      "metadata": {
        "id": "0QgtFbkcfELe"
      },
      "source": [
        "id(b)"
      ],
      "execution_count": null,
      "outputs": []
    },
    {
      "cell_type": "code",
      "metadata": {
        "id": "Tmk7MgyKfEvK"
      },
      "source": [
        "a is b"
      ],
      "execution_count": null,
      "outputs": []
    },
    {
      "cell_type": "code",
      "metadata": {
        "id": "Y6U_3mwCfGLo"
      },
      "source": [
        "a[1] = 4\n",
        "a"
      ],
      "execution_count": null,
      "outputs": []
    },
    {
      "cell_type": "code",
      "metadata": {
        "id": "_5anvZ6SfIXl"
      },
      "source": [
        "b"
      ],
      "execution_count": null,
      "outputs": []
    },
    {
      "cell_type": "markdown",
      "metadata": {
        "id": "yhLrUCiffKj8"
      },
      "source": [
        "a 리스트의 두 번째 요소를 값 4로 바꾸었더니 a만 바뀌는 것이 아니라 b도 똑같이 바뀌었다. 그 이유는 앞에서 살펴본 것 처럼 a,b 모두 동일한 리스트를 가리키고 있기 때문이다.\n",
        "\n",
        "그렇다면 b 변수를 생성할 때 a 변수의 값을 가져오면서 a와는 다른 주소를 가리키도록 만들수는 없을까? 다음 2가지 방법이 있다."
      ]
    },
    {
      "cell_type": "markdown",
      "metadata": {
        "id": "IC56PFRAfeC8"
      },
      "source": [
        "1. [:] 이용\n",
        "\n",
        "첫 번째 방법으로는 다음과 같이 리스트 전체를 가리키는 [:]을 사용해서 복사하는 것이다."
      ]
    },
    {
      "cell_type": "code",
      "metadata": {
        "id": "gy5ZyH7RfJQ1"
      },
      "source": [
        "a = [1,2,3]\n",
        "b = a[:]\n",
        "a[1] = 4\n",
        "a"
      ],
      "execution_count": null,
      "outputs": []
    },
    {
      "cell_type": "code",
      "metadata": {
        "id": "mHER2Ovlfqam"
      },
      "source": [
        "b"
      ],
      "execution_count": null,
      "outputs": []
    },
    {
      "cell_type": "markdown",
      "metadata": {
        "id": "K2QgpSArfto3"
      },
      "source": [
        "2. copy 모듈 이용\n",
        "\n",
        "두 번째는 copy 모듈을 사용하는 방법이다."
      ]
    },
    {
      "cell_type": "code",
      "metadata": {
        "id": "YGNQY0pzfrEh"
      },
      "source": [
        "from copy import copy\n",
        "a = [1,2,3]\n",
        "b = copy(a)"
      ],
      "execution_count": null,
      "outputs": []
    },
    {
      "cell_type": "code",
      "metadata": {
        "id": "w_OjgVwpf6JD"
      },
      "source": [
        "b"
      ],
      "execution_count": null,
      "outputs": []
    },
    {
      "cell_type": "code",
      "metadata": {
        "id": "1X8lh2k2f608"
      },
      "source": [
        "b is a"
      ],
      "execution_count": null,
      "outputs": []
    },
    {
      "cell_type": "markdown",
      "metadata": {
        "id": "ivYJLeCUgW3U"
      },
      "source": [
        "# 02장 연습문제"
      ]
    },
    {
      "cell_type": "markdown",
      "metadata": {
        "id": "HvziCe6JgbcW"
      },
      "source": [
        "Q1. 홍길동 씨의 과목별 점수는 다음과 같다. 홍길동 씨의 평균 점수를 구해 보자."
      ]
    },
    {
      "cell_type": "code",
      "metadata": {
        "id": "FroUdTHMgDWO"
      },
      "source": [
        "a = 80\n",
        "b = 75\n",
        "c = 55\n",
        "(a+b+c)/3"
      ],
      "execution_count": null,
      "outputs": []
    },
    {
      "cell_type": "markdown",
      "metadata": {
        "id": "WgpiXKJcguiL"
      },
      "source": [
        "Q2. 자연수 13이 홀수인지 짝수인지 판별할 수 있는 방법에 대해 말해 보자."
      ]
    },
    {
      "cell_type": "code",
      "metadata": {
        "id": "SWj63Je_gpKT"
      },
      "source": [
        "if 13 % 2 == 1 :\n",
        "    print(\"홀수\")\n",
        "else:\n",
        "    print(\"짝수\")"
      ],
      "execution_count": null,
      "outputs": []
    }
  ]
}