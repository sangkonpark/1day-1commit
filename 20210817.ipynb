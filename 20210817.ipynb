{
  "nbformat": 4,
  "nbformat_minor": 0,
  "metadata": {
    "colab": {
      "name": "20210817.ipynb",
      "private_outputs": true,
      "provenance": [],
      "authorship_tag": "ABX9TyPusmLt9ylu8CgWa1QRjNdN",
      "include_colab_link": true
    },
    "kernelspec": {
      "name": "python3",
      "display_name": "Python 3"
    },
    "language_info": {
      "name": "python"
    }
  },
  "cells": [
    {
      "cell_type": "markdown",
      "metadata": {
        "id": "view-in-github",
        "colab_type": "text"
      },
      "source": [
        "<a href=\"https://colab.research.google.com/github/sangkonpark/1day-1commit/blob/main/20210817.ipynb\" target=\"_parent\"><img src=\"https://colab.research.google.com/assets/colab-badge.svg\" alt=\"Open In Colab\"/></a>"
      ]
    },
    {
      "cell_type": "markdown",
      "metadata": {
        "id": "fq0Wjz9QyWLi"
      },
      "source": [
        "# 02-5 딕셔너리 자료형"
      ]
    },
    {
      "cell_type": "markdown",
      "metadata": {
        "id": "NZb_j3xFyhRp"
      },
      "source": [
        "\"pople\"이라는 단어에 \"사람\", \"baseball\"이라는 단어에 \"야구\"라는 뜻이 부합되듯이 딕셔너리는 Key와 Value를 한 쌍으로 갖는 자료형이다. 예컨대 Key가 \"baseball\"이라면 Value는 \"야구\"가 될 것이다.\n",
        "\n",
        "딕셔너리는 리스트나 튜플처럼 순차적으로 해당 요솟값을 구하지 않고 Key를 통해 Value를 얻는다. 이것이 바로 딕셔너리의 가장 큰 특징이다."
      ]
    },
    {
      "cell_type": "markdown",
      "metadata": {
        "id": "kZv41uluy8_P"
      },
      "source": [
        "기본 딕셔너리의 모습은 다음과 같다.\n",
        "\n",
        "{Key1:Value1, Key2:Value2, Key3:Value3, ...}"
      ]
    },
    {
      "cell_type": "code",
      "metadata": {
        "id": "cEdnb8ohoFq1"
      },
      "source": [
        " dic = {'name':'pey', 'phone':'0119993323', 'birth': '1118'}"
      ],
      "execution_count": null,
      "outputs": []
    },
    {
      "cell_type": "code",
      "metadata": {
        "id": "sQHWS7xXzL23"
      },
      "source": [
        "dic"
      ],
      "execution_count": null,
      "outputs": []
    },
    {
      "cell_type": "markdown",
      "metadata": {
        "id": "U-rYx8UTJ0vQ"
      },
      "source": [
        "딕셔너리에서 Key 사용해 Value 얻기\n",
        "딕셔너리는 Key를 사용해서 Value를 구한다. 아래 예에서 'pey'라는 Key의 Value를 얻기 위해 grade['pey']를 사용한 것 처럼 Key의 Value를 얻기 위해서는 딕셔너리변수이름[Key]를 사용한다."
      ]
    },
    {
      "cell_type": "code",
      "metadata": {
        "id": "rgkeFB4qzN9h"
      },
      "source": [
        "grade = {'pey':10, 'julliet':99}\n",
        "grade['pey']"
      ],
      "execution_count": null,
      "outputs": []
    },
    {
      "cell_type": "code",
      "metadata": {
        "id": "eunZ3ypPKQyb"
      },
      "source": [
        "grade['julliet']"
      ],
      "execution_count": null,
      "outputs": []
    },
    {
      "cell_type": "markdown",
      "metadata": {
        "id": "yeHTOJu2hHhT"
      },
      "source": [
        "# 02-6 집합 자료형"
      ]
    },
    {
      "cell_type": "markdown",
      "metadata": {
        "id": "l0_lr8sxhKVY"
      },
      "source": [
        "Set에 다음과 같은 2가지 큰 특징이 있다.\n",
        "\n",
        "1. 중복을 허용하지 않는다.\n",
        "\n",
        "2. 순서가 없다(Unordered).\n",
        "\n",
        "만약 set 자료형에 저장된 값을 인덱싱으로 접근하려면 리스트나 튜플로 변환한 후 해야 한다."
      ]
    },
    {
      "cell_type": "code",
      "metadata": {
        "id": "puS_NxvAKUli"
      },
      "source": [
        "s1 = set([1,2,3])\n",
        "s1"
      ],
      "execution_count": null,
      "outputs": []
    },
    {
      "cell_type": "markdown",
      "metadata": {
        "id": "WBoeirZch5yc"
      },
      "source": [
        "set 자료형을 정말 유용하게 사용하는 경우는 교집합, 합집합, 차집합을 구할 때 이다."
      ]
    },
    {
      "cell_type": "code",
      "metadata": {
        "id": "xSCiF-2PhQpC"
      },
      "source": [
        "s1 = set([1,2,3,4,5,6])\n",
        "s2 = set([4,5,6,7,8,9])"
      ],
      "execution_count": null,
      "outputs": []
    },
    {
      "cell_type": "code",
      "metadata": {
        "id": "vWDIB_OpiDsN"
      },
      "source": [
        "# 1.교집합\n",
        "s1 & s2"
      ],
      "execution_count": null,
      "outputs": []
    },
    {
      "cell_type": "code",
      "metadata": {
        "id": "lMIoYzWjiHZj"
      },
      "source": [
        "# 2.합집합\n",
        "s1 | s2"
      ],
      "execution_count": null,
      "outputs": []
    }
  ]
}