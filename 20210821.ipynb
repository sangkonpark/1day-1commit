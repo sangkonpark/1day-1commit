{
  "nbformat": 4,
  "nbformat_minor": 0,
  "metadata": {
    "colab": {
      "name": "20210821.ipynb",
      "private_outputs": true,
      "provenance": [],
      "authorship_tag": "ABX9TyNIupSwc8c1yHY5skwIiE0k",
      "include_colab_link": true
    },
    "kernelspec": {
      "name": "python3",
      "display_name": "Python 3"
    },
    "language_info": {
      "name": "python"
    }
  },
  "cells": [
    {
      "cell_type": "markdown",
      "metadata": {
        "id": "view-in-github",
        "colab_type": "text"
      },
      "source": [
        "<a href=\"https://colab.research.google.com/github/sangkonpark/1day-1commit/blob/main/20210821.ipynb\" target=\"_parent\"><img src=\"https://colab.research.google.com/assets/colab-badge.svg\" alt=\"Open In Colab\"/></a>"
      ]
    },
    {
      "cell_type": "markdown",
      "metadata": {
        "id": "ydkFr2q03GIS"
      },
      "source": [
        "# 03-1 if문"
      ]
    },
    {
      "cell_type": "code",
      "metadata": {
        "id": "4sAjjoLv3BLj"
      },
      "source": [
        "# \"만약 3000원 이상의 돈을 가지고 있으면 택시를 타고 그렇지 않으면 걸어 가라.\"\n",
        "\n",
        "money = 2000\n",
        "if money >= 3000:\n",
        "    print(\"택시를 타고 가라\")\n",
        "else:\n",
        "    print(\"걸어가라\")"
      ],
      "execution_count": null,
      "outputs": []
    },
    {
      "cell_type": "code",
      "metadata": {
        "id": "9Da0Pq5e4V0e"
      },
      "source": [
        "# \"돈이 3000원 이상 있거나 카드가 있다면 택시를 타고 그렇지 않으면 걸어 가라.\"\n",
        "\n",
        "money = 2000\n",
        "card = True\n",
        "\n",
        "if money >= 3000 or card:\n",
        "    print(\"택시를 타고 가라\")\n",
        "else:\n",
        "    print(\"걸어가라\")"
      ],
      "execution_count": null,
      "outputs": []
    },
    {
      "cell_type": "markdown",
      "metadata": {
        "id": "cK02QpEV43XL"
      },
      "source": [
        "x in s, x not in s\n",
        "\n",
        "x in 리스트\n",
        "x in 튜플\n",
        "x in 문자열\n",
        "\n",
        "영어 단어 in의 뜻이 \"~안에\"라는 것을 생각해 보면 다음 예가 쉽게 이해될 것이다."
      ]
    },
    {
      "cell_type": "code",
      "metadata": {
        "id": "QUSPegHC4wwF"
      },
      "source": [
        "1 in [1,2,3]"
      ],
      "execution_count": null,
      "outputs": []
    },
    {
      "cell_type": "code",
      "metadata": {
        "id": "CM-7S54J5Dh0"
      },
      "source": [
        "1 not in [1,2,3]"
      ],
      "execution_count": null,
      "outputs": []
    },
    {
      "cell_type": "code",
      "metadata": {
        "id": "Z8t5TyjR5FTi"
      },
      "source": [
        "# \"만약 주머니에 돈이 있으면 택시를 타고, 없으면 걸어 가라.\"\n",
        "\n",
        "pocket = ['paper', 'cellphone', 'money']\n",
        "if 'money' in pocket:\n",
        "    print(\"택시를 타고 가라\")\n",
        "else:\n",
        "    print(\"걸어가라\")"
      ],
      "execution_count": null,
      "outputs": []
    },
    {
      "cell_type": "code",
      "metadata": {
        "id": "OnS1AqtX5fjK"
      },
      "source": [
        "# \"주머니에 돈이 있으면 택시를 타고, 주머니에 돈은 없지만 카드가 있으면 택시를 타고, 돈도 없고 카드도 없으면 걸어가라.\"\n",
        "\n",
        "pocket = ['paper', 'handphone']\n",
        "card = True\n",
        "if 'money' in pocket:\n",
        "    print(\"택시를 타고 가라\")\n",
        "elif card:\n",
        "    print(\"택시를 타고 가라\")\n",
        "else:\n",
        "    print(\"걸어가라\")"
      ],
      "execution_count": null,
      "outputs": []
    },
    {
      "cell_type": "code",
      "metadata": {
        "id": "TaAV3od86uLe"
      },
      "source": [
        "score = 70\n",
        "\n",
        "if score >= 60:\n",
        "    message = \"success\"\n",
        "else:\n",
        "    message = \"failure\"\n",
        "\n",
        "print(message)"
      ],
      "execution_count": null,
      "outputs": []
    },
    {
      "cell_type": "markdown",
      "metadata": {
        "id": "jtbfCquY6k2j"
      },
      "source": [
        "조건부 표현식\n",
        "\n",
        "파이썬의 조건부 표현식(conditional expression)을 사용하면 위 코드를 다음과 같이 간단히 표현할 수 있다.\n",
        "\n",
        "조건문이 참인 경우 if 조건문 else 조건문이 거짓인 경우"
      ]
    },
    {
      "cell_type": "code",
      "metadata": {
        "id": "xvW0Oxdm6Y0A"
      },
      "source": [
        "message = \"success\" if score >= 60 else \"failure\"\n",
        "print(\"message\")"
      ],
      "execution_count": null,
      "outputs": []
    }
  ]
}