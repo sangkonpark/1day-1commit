{
  "nbformat": 4,
  "nbformat_minor": 0,
  "metadata": {
    "colab": {
      "name": "Untitled1.ipynb",
      "private_outputs": true,
      "provenance": [],
      "authorship_tag": "ABX9TyPqNpeqeYOBEdOxg0Hm+5mC",
      "include_colab_link": true
    },
    "kernelspec": {
      "name": "python3",
      "display_name": "Python 3"
    },
    "language_info": {
      "name": "python"
    }
  },
  "cells": [
    {
      "cell_type": "markdown",
      "metadata": {
        "id": "view-in-github",
        "colab_type": "text"
      },
      "source": [
        "<a href=\"https://colab.research.google.com/github/sangkonpark/1day-1commit/blob/main/Untitled1.ipynb\" target=\"_parent\"><img src=\"https://colab.research.google.com/assets/colab-badge.svg\" alt=\"Open In Colab\"/></a>"
      ]
    },
    {
      "cell_type": "markdown",
      "metadata": {
        "id": "uB41pbFS6mNh"
      },
      "source": [
        "Q3."
      ]
    },
    {
      "cell_type": "code",
      "metadata": {
        "id": "pJsbqTipwqCi"
      },
      "source": [
        "#Q3\n",
        "\n",
        "a= \"881120-1068234\"\n",
        "b = a[0:6]\n",
        "c = a[7:]"
      ],
      "execution_count": null,
      "outputs": []
    },
    {
      "cell_type": "code",
      "metadata": {
        "id": "MNHy50Iw6V76"
      },
      "source": [
        "b"
      ],
      "execution_count": null,
      "outputs": []
    },
    {
      "cell_type": "code",
      "metadata": {
        "id": "EbT-FgNo6jlg"
      },
      "source": [
        "c"
      ],
      "execution_count": null,
      "outputs": []
    },
    {
      "cell_type": "markdown",
      "metadata": {
        "id": "gQOEkY5Q6pAI"
      },
      "source": [
        "Q4."
      ]
    },
    {
      "cell_type": "code",
      "metadata": {
        "id": "qi85iIeH6j5p"
      },
      "source": [
        "pin = \"881120-1068234\"\n",
        "pin[7]"
      ],
      "execution_count": null,
      "outputs": []
    },
    {
      "cell_type": "markdown",
      "metadata": {
        "id": "D1pR0Rr67Alx"
      },
      "source": [
        "Q5."
      ]
    },
    {
      "cell_type": "code",
      "metadata": {
        "id": "DQFTvsY169Wx"
      },
      "source": [
        "a = \"a:b:c:d\"\n",
        "a.replace(\":\", \"#\")"
      ],
      "execution_count": null,
      "outputs": []
    },
    {
      "cell_type": "markdown",
      "metadata": {
        "id": "wil2DZlQ7YvI"
      },
      "source": [
        "Q6."
      ]
    },
    {
      "cell_type": "code",
      "metadata": {
        "id": "JteaLHbY7Q1C"
      },
      "source": [
        "a = [1,3,5,4,2]\n",
        "a.sort()\n",
        "a.reverse()\n",
        "a"
      ],
      "execution_count": null,
      "outputs": []
    },
    {
      "cell_type": "markdown",
      "metadata": {
        "id": "aPbE04C58FFx"
      },
      "source": [
        "Q7."
      ]
    },
    {
      "cell_type": "code",
      "metadata": {
        "id": "otB4Rxgv7nAm"
      },
      "source": [
        "\" \".join(['Life', 'is', 'too', 'short'])"
      ],
      "execution_count": null,
      "outputs": []
    },
    {
      "cell_type": "code",
      "metadata": {
        "id": "PvjDhL5e_1iR"
      },
      "source": [
        "# 정답\n",
        "a = ['Life', 'is', 'too', 'short']\n",
        "result = \" \".join(a)\n",
        "print(result)"
      ],
      "execution_count": null,
      "outputs": []
    },
    {
      "cell_type": "markdown",
      "metadata": {
        "id": "ehzaaqkS82EO"
      },
      "source": [
        "Q8."
      ]
    },
    {
      "cell_type": "code",
      "metadata": {
        "id": "wzr72GP-8RDb"
      },
      "source": [
        "a = (1,2,3)\n",
        "b = (4,)\n",
        "a + b"
      ],
      "execution_count": null,
      "outputs": []
    },
    {
      "cell_type": "markdown",
      "metadata": {
        "id": "NI6E909g9TM2"
      },
      "source": [
        "Q9."
      ]
    },
    {
      "cell_type": "code",
      "metadata": {
        "id": "pc-RJxsO8_Q0"
      },
      "source": [
        "a = dict()\n",
        "a"
      ],
      "execution_count": null,
      "outputs": []
    },
    {
      "cell_type": "markdown",
      "metadata": {
        "id": "_keB3tVK9adO"
      },
      "source": [
        "Q10."
      ]
    },
    {
      "cell_type": "code",
      "metadata": {
        "id": "c75kvIKZ9VaA"
      },
      "source": [
        " a = {'A':90, 'B':80, 'C':70}\n",
        " a.pop(B)"
      ],
      "execution_count": null,
      "outputs": []
    },
    {
      "cell_type": "code",
      "metadata": {
        "id": "qET4F3P9AFw8"
      },
      "source": [
        "#정답\n",
        "\n",
        "a = {'A':90, 'B':80, 'C':70}\n",
        "result = a.pop('B')\n",
        "print(a)\n",
        "print(result)"
      ],
      "execution_count": null,
      "outputs": []
    },
    {
      "cell_type": "markdown",
      "metadata": {
        "id": "QWRcfvnO-Djt"
      },
      "source": [
        "Q11."
      ]
    },
    {
      "cell_type": "code",
      "metadata": {
        "id": "Oy2wmjQe9hD8"
      },
      "source": [
        " a = set([1, 1, 1, 2, 2, 3, 3, 3, 4, 4, 5])\n",
        " a"
      ],
      "execution_count": null,
      "outputs": []
    },
    {
      "cell_type": "code",
      "metadata": {
        "id": "MuZoP5zwAdUo"
      },
      "source": [
        "#정답\n",
        "\n",
        "a= [1, 1, 1, 2, 2, 3, 3, 3, 4, 4, 5]\n",
        "aSet = set(a)\n",
        "b = list(aSet)\n",
        "print(b)"
      ],
      "execution_count": null,
      "outputs": []
    },
    {
      "cell_type": "markdown",
      "metadata": {
        "id": "1yO8NlZz-_Sp"
      },
      "source": [
        "Q12."
      ]
    },
    {
      "cell_type": "code",
      "metadata": {
        "id": "aO2WRsH--7od"
      },
      "source": [
        "a = b = [1,2,3]\n",
        "a[1] = 4\n",
        "print(b)\n",
        "\n",
        "# 정답 COPY로 복사 했어야 했다."
      ],
      "execution_count": null,
      "outputs": []
    }
  ]
}