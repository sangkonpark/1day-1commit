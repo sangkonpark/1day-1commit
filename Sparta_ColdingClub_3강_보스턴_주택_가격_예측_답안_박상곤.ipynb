{
  "nbformat": 4,
  "nbformat_minor": 0,
  "metadata": {
    "colab": {
      "name": "Sparta ColdingClub 3강 보스턴 주택 가격 예측-답안-박상곤.ipynb",
      "provenance": [],
      "authorship_tag": "ABX9TyMTzE21UGe2PqEe8ctyHCqt",
      "include_colab_link": true
    },
    "kernelspec": {
      "name": "python3",
      "display_name": "Python 3"
    },
    "language_info": {
      "name": "python"
    }
  },
  "cells": [
    {
      "cell_type": "markdown",
      "metadata": {
        "id": "view-in-github",
        "colab_type": "text"
      },
      "source": [
        "<a href=\"https://colab.research.google.com/github/sangkonpark/1day-1commit/blob/main/Sparta_ColdingClub_3%EA%B0%95_%EB%B3%B4%EC%8A%A4%ED%84%B4_%EC%A3%BC%ED%83%9D_%EA%B0%80%EA%B2%A9_%EC%98%88%EC%B8%A1_%EB%8B%B5%EC%95%88_%EB%B0%95%EC%83%81%EA%B3%A4.ipynb\" target=\"_parent\"><img src=\"https://colab.research.google.com/assets/colab-badge.svg\" alt=\"Open In Colab\"/></a>"
      ]
    },
    {
      "cell_type": "markdown",
      "metadata": {
        "id": "AGlErhKAVtRC"
      },
      "source": [
        "Q1. 탐색적 데이터 분석을 통해 각종 차트로 시각화해봅시다.\n",
        "\n",
        "Q2. 앞서 자전거 수요 예측하기에서 사용했던 다음의 선형 회귀 모델을 학습합니다.\n",
        "\n",
        "Q3. 자전거 수요 예측 때와 마찬가지로 각 특성들의 coefficients 값을 출력해보세요."
      ]
    },
    {
      "cell_type": "markdown",
      "metadata": {
        "id": "4-tL7lwh8IFN"
      },
      "source": [
        "각 변수의 의미는 다음과 같습니다:  \n",
        "\n",
        "TOWN: 소속 도시 이름  \n",
        "\n",
        "TOWN_Number : 소속 도시의 고유 번호  \n",
        "\n",
        "LON : 경도(Longitudes)  \n",
        "\n",
        "LAT : 위도(Latitudes)    \n",
        "\n",
        "CMEDV: 주택 가격 중앙값  \n",
        "\n",
        "CRIM: 도시시(Town) 별 1인당 범죄율  \n",
        "\n",
        "ZN: 25,000 평방 피트를 초과하는 거주지역의 비율  \n",
        "\n",
        "INDUS: 비소매상업지역이 점유하고 있는 토지 비율  \n",
        "\n",
        "CHAS: 찰스강에 대한 더미 변수(강의 경계에 위치한 경우는 1, 아니면 0)  \n",
        "\n",
        "NOX: 소속 도시의 농축 일산화질소  \n",
        "\n",
        "RM: 주택 1가구당 평균 방의 개수  \n",
        "\n",
        "AGE: 1940년 이전에 건축된 소유주택의 비율  \n",
        "\n",
        "DIS: 5개의 보스턴 직업센터까지의 접근성 지수  \n",
        "\n",
        "RAD: 방사형 도로까지의 접근성 지수  \n",
        "\n",
        "TAX: 10,000 달러 당 재산세율  \n",
        "\n",
        "PTRATIO: 자치시(Town)별 학생/교사 비율  \n",
        "\n",
        "B: 1000(Bk - 0.63)^2, 여기서 Bk는 도시(Town)별 흑인의 비율을 말한다.   \n",
        "\n",
        "LSTAT: 하위 계층 비율  "
      ]
    },
    {
      "cell_type": "markdown",
      "metadata": {
        "id": "cIXD8iL9SFB0"
      },
      "source": [
        "# 01 데이터 로드"
      ]
    },
    {
      "cell_type": "code",
      "metadata": {
        "id": "64XA0b9RHPX_"
      },
      "source": [
        "import numpy as np\n",
        "import pandas as pd\n",
        "import requests\n",
        "import matplotlib.pyplot as plt\n",
        "%matplotlib inline\n",
        "from bs4 import BeautifulSoup\n",
        "\n",
        "boston_df = pd.read_csv('Sparta_CodingClub_Boston.csv')"
      ],
      "execution_count": 3,
      "outputs": []
    },
    {
      "cell_type": "code",
      "metadata": {
        "colab": {
          "base_uri": "https://localhost:8080/",
          "height": 419
        },
        "id": "7z75Sk28Quq6",
        "outputId": "b552a4d0-135c-423f-c13a-ed28fb40027e"
      },
      "source": [
        "boston_df"
      ],
      "execution_count": 4,
      "outputs": [
        {
          "output_type": "execute_result",
          "data": {
            "text/html": [
              "<div>\n",
              "<style scoped>\n",
              "    .dataframe tbody tr th:only-of-type {\n",
              "        vertical-align: middle;\n",
              "    }\n",
              "\n",
              "    .dataframe tbody tr th {\n",
              "        vertical-align: top;\n",
              "    }\n",
              "\n",
              "    .dataframe thead th {\n",
              "        text-align: right;\n",
              "    }\n",
              "</style>\n",
              "<table border=\"1\" class=\"dataframe\">\n",
              "  <thead>\n",
              "    <tr style=\"text-align: right;\">\n",
              "      <th></th>\n",
              "      <th>TOWN</th>\n",
              "      <th>TOWN#</th>\n",
              "      <th>LON</th>\n",
              "      <th>LAT</th>\n",
              "      <th>CMEDV</th>\n",
              "      <th>CRIM</th>\n",
              "      <th>ZN</th>\n",
              "      <th>INDUS</th>\n",
              "      <th>CHAS</th>\n",
              "      <th>NOX</th>\n",
              "      <th>RM</th>\n",
              "      <th>AGE</th>\n",
              "      <th>DIS</th>\n",
              "      <th>RAD</th>\n",
              "      <th>TAX</th>\n",
              "      <th>PTRATIO</th>\n",
              "      <th>B</th>\n",
              "      <th>LSTAT</th>\n",
              "    </tr>\n",
              "  </thead>\n",
              "  <tbody>\n",
              "    <tr>\n",
              "      <th>0</th>\n",
              "      <td>Nahant</td>\n",
              "      <td>0</td>\n",
              "      <td>-70.9550</td>\n",
              "      <td>42.2550</td>\n",
              "      <td>24.0</td>\n",
              "      <td>0.00632</td>\n",
              "      <td>18.0</td>\n",
              "      <td>2.31</td>\n",
              "      <td>0</td>\n",
              "      <td>0.538</td>\n",
              "      <td>6.575</td>\n",
              "      <td>65.2</td>\n",
              "      <td>4.0900</td>\n",
              "      <td>1</td>\n",
              "      <td>296</td>\n",
              "      <td>15.3</td>\n",
              "      <td>396.90</td>\n",
              "      <td>4.98</td>\n",
              "    </tr>\n",
              "    <tr>\n",
              "      <th>1</th>\n",
              "      <td>Swampscott</td>\n",
              "      <td>1</td>\n",
              "      <td>-70.9500</td>\n",
              "      <td>42.2875</td>\n",
              "      <td>21.6</td>\n",
              "      <td>0.02731</td>\n",
              "      <td>0.0</td>\n",
              "      <td>7.07</td>\n",
              "      <td>0</td>\n",
              "      <td>0.469</td>\n",
              "      <td>6.421</td>\n",
              "      <td>78.9</td>\n",
              "      <td>4.9671</td>\n",
              "      <td>2</td>\n",
              "      <td>242</td>\n",
              "      <td>17.8</td>\n",
              "      <td>396.90</td>\n",
              "      <td>9.14</td>\n",
              "    </tr>\n",
              "    <tr>\n",
              "      <th>2</th>\n",
              "      <td>Swampscott</td>\n",
              "      <td>1</td>\n",
              "      <td>-70.9360</td>\n",
              "      <td>42.2830</td>\n",
              "      <td>34.7</td>\n",
              "      <td>0.02729</td>\n",
              "      <td>0.0</td>\n",
              "      <td>7.07</td>\n",
              "      <td>0</td>\n",
              "      <td>0.469</td>\n",
              "      <td>7.185</td>\n",
              "      <td>61.1</td>\n",
              "      <td>4.9671</td>\n",
              "      <td>2</td>\n",
              "      <td>242</td>\n",
              "      <td>17.8</td>\n",
              "      <td>392.83</td>\n",
              "      <td>4.03</td>\n",
              "    </tr>\n",
              "    <tr>\n",
              "      <th>3</th>\n",
              "      <td>Marblehead</td>\n",
              "      <td>2</td>\n",
              "      <td>-70.9280</td>\n",
              "      <td>42.2930</td>\n",
              "      <td>33.4</td>\n",
              "      <td>0.03237</td>\n",
              "      <td>0.0</td>\n",
              "      <td>2.18</td>\n",
              "      <td>0</td>\n",
              "      <td>0.458</td>\n",
              "      <td>6.998</td>\n",
              "      <td>45.8</td>\n",
              "      <td>6.0622</td>\n",
              "      <td>3</td>\n",
              "      <td>222</td>\n",
              "      <td>18.7</td>\n",
              "      <td>394.63</td>\n",
              "      <td>2.94</td>\n",
              "    </tr>\n",
              "    <tr>\n",
              "      <th>4</th>\n",
              "      <td>Marblehead</td>\n",
              "      <td>2</td>\n",
              "      <td>-70.9220</td>\n",
              "      <td>42.2980</td>\n",
              "      <td>36.2</td>\n",
              "      <td>0.06905</td>\n",
              "      <td>0.0</td>\n",
              "      <td>2.18</td>\n",
              "      <td>0</td>\n",
              "      <td>0.458</td>\n",
              "      <td>7.147</td>\n",
              "      <td>54.2</td>\n",
              "      <td>6.0622</td>\n",
              "      <td>3</td>\n",
              "      <td>222</td>\n",
              "      <td>18.7</td>\n",
              "      <td>396.90</td>\n",
              "      <td>5.33</td>\n",
              "    </tr>\n",
              "    <tr>\n",
              "      <th>...</th>\n",
              "      <td>...</td>\n",
              "      <td>...</td>\n",
              "      <td>...</td>\n",
              "      <td>...</td>\n",
              "      <td>...</td>\n",
              "      <td>...</td>\n",
              "      <td>...</td>\n",
              "      <td>...</td>\n",
              "      <td>...</td>\n",
              "      <td>...</td>\n",
              "      <td>...</td>\n",
              "      <td>...</td>\n",
              "      <td>...</td>\n",
              "      <td>...</td>\n",
              "      <td>...</td>\n",
              "      <td>...</td>\n",
              "      <td>...</td>\n",
              "      <td>...</td>\n",
              "    </tr>\n",
              "    <tr>\n",
              "      <th>501</th>\n",
              "      <td>Winthrop</td>\n",
              "      <td>91</td>\n",
              "      <td>-70.9860</td>\n",
              "      <td>42.2312</td>\n",
              "      <td>22.4</td>\n",
              "      <td>0.06263</td>\n",
              "      <td>0.0</td>\n",
              "      <td>11.93</td>\n",
              "      <td>0</td>\n",
              "      <td>0.573</td>\n",
              "      <td>6.593</td>\n",
              "      <td>69.1</td>\n",
              "      <td>2.4786</td>\n",
              "      <td>1</td>\n",
              "      <td>273</td>\n",
              "      <td>21.0</td>\n",
              "      <td>391.99</td>\n",
              "      <td>9.67</td>\n",
              "    </tr>\n",
              "    <tr>\n",
              "      <th>502</th>\n",
              "      <td>Winthrop</td>\n",
              "      <td>91</td>\n",
              "      <td>-70.9910</td>\n",
              "      <td>42.2275</td>\n",
              "      <td>20.6</td>\n",
              "      <td>0.04527</td>\n",
              "      <td>0.0</td>\n",
              "      <td>11.93</td>\n",
              "      <td>0</td>\n",
              "      <td>0.573</td>\n",
              "      <td>6.120</td>\n",
              "      <td>76.7</td>\n",
              "      <td>2.2875</td>\n",
              "      <td>1</td>\n",
              "      <td>273</td>\n",
              "      <td>21.0</td>\n",
              "      <td>396.90</td>\n",
              "      <td>9.08</td>\n",
              "    </tr>\n",
              "    <tr>\n",
              "      <th>503</th>\n",
              "      <td>Winthrop</td>\n",
              "      <td>91</td>\n",
              "      <td>-70.9948</td>\n",
              "      <td>42.2260</td>\n",
              "      <td>23.9</td>\n",
              "      <td>0.06076</td>\n",
              "      <td>0.0</td>\n",
              "      <td>11.93</td>\n",
              "      <td>0</td>\n",
              "      <td>0.573</td>\n",
              "      <td>6.976</td>\n",
              "      <td>91.0</td>\n",
              "      <td>2.1675</td>\n",
              "      <td>1</td>\n",
              "      <td>273</td>\n",
              "      <td>21.0</td>\n",
              "      <td>396.90</td>\n",
              "      <td>5.64</td>\n",
              "    </tr>\n",
              "    <tr>\n",
              "      <th>504</th>\n",
              "      <td>Winthrop</td>\n",
              "      <td>91</td>\n",
              "      <td>-70.9875</td>\n",
              "      <td>42.2240</td>\n",
              "      <td>22.0</td>\n",
              "      <td>0.10959</td>\n",
              "      <td>0.0</td>\n",
              "      <td>11.93</td>\n",
              "      <td>0</td>\n",
              "      <td>0.573</td>\n",
              "      <td>6.794</td>\n",
              "      <td>89.3</td>\n",
              "      <td>2.3889</td>\n",
              "      <td>1</td>\n",
              "      <td>273</td>\n",
              "      <td>21.0</td>\n",
              "      <td>393.45</td>\n",
              "      <td>6.48</td>\n",
              "    </tr>\n",
              "    <tr>\n",
              "      <th>505</th>\n",
              "      <td>Winthrop</td>\n",
              "      <td>91</td>\n",
              "      <td>-70.9825</td>\n",
              "      <td>42.2210</td>\n",
              "      <td>19.0</td>\n",
              "      <td>0.04741</td>\n",
              "      <td>0.0</td>\n",
              "      <td>11.93</td>\n",
              "      <td>0</td>\n",
              "      <td>0.573</td>\n",
              "      <td>6.030</td>\n",
              "      <td>80.8</td>\n",
              "      <td>2.5050</td>\n",
              "      <td>1</td>\n",
              "      <td>273</td>\n",
              "      <td>21.0</td>\n",
              "      <td>396.90</td>\n",
              "      <td>7.88</td>\n",
              "    </tr>\n",
              "  </tbody>\n",
              "</table>\n",
              "<p>506 rows × 18 columns</p>\n",
              "</div>"
            ],
            "text/plain": [
              "           TOWN  TOWN#      LON      LAT  ...  TAX  PTRATIO       B  LSTAT\n",
              "0        Nahant      0 -70.9550  42.2550  ...  296     15.3  396.90   4.98\n",
              "1    Swampscott      1 -70.9500  42.2875  ...  242     17.8  396.90   9.14\n",
              "2    Swampscott      1 -70.9360  42.2830  ...  242     17.8  392.83   4.03\n",
              "3    Marblehead      2 -70.9280  42.2930  ...  222     18.7  394.63   2.94\n",
              "4    Marblehead      2 -70.9220  42.2980  ...  222     18.7  396.90   5.33\n",
              "..          ...    ...      ...      ...  ...  ...      ...     ...    ...\n",
              "501    Winthrop     91 -70.9860  42.2312  ...  273     21.0  391.99   9.67\n",
              "502    Winthrop     91 -70.9910  42.2275  ...  273     21.0  396.90   9.08\n",
              "503    Winthrop     91 -70.9948  42.2260  ...  273     21.0  396.90   5.64\n",
              "504    Winthrop     91 -70.9875  42.2240  ...  273     21.0  393.45   6.48\n",
              "505    Winthrop     91 -70.9825  42.2210  ...  273     21.0  396.90   7.88\n",
              "\n",
              "[506 rows x 18 columns]"
            ]
          },
          "metadata": {
            "tags": []
          },
          "execution_count": 4
        }
      ]
    },
    {
      "cell_type": "markdown",
      "metadata": {
        "id": "0tqR2wHNSTcq"
      },
      "source": [
        "# 02 데이터 크기 확인"
      ]
    },
    {
      "cell_type": "code",
      "metadata": {
        "colab": {
          "base_uri": "https://localhost:8080/"
        },
        "id": "NvWwSLEjSSsD",
        "outputId": "a0b3defc-7371-4c5b-b032-cbabbd3e872f"
      },
      "source": [
        "len(boston_df)"
      ],
      "execution_count": 5,
      "outputs": [
        {
          "output_type": "execute_result",
          "data": {
            "text/plain": [
              "506"
            ]
          },
          "metadata": {
            "tags": []
          },
          "execution_count": 5
        }
      ]
    },
    {
      "cell_type": "code",
      "metadata": {
        "colab": {
          "base_uri": "https://localhost:8080/"
        },
        "id": "uAiW8uwRSZva",
        "outputId": "846d1d00-2848-4bf2-ab8d-750531ead987"
      },
      "source": [
        "len(boston_df.columns)"
      ],
      "execution_count": 6,
      "outputs": [
        {
          "output_type": "execute_result",
          "data": {
            "text/plain": [
              "18"
            ]
          },
          "metadata": {
            "tags": []
          },
          "execution_count": 6
        }
      ]
    },
    {
      "cell_type": "code",
      "metadata": {
        "colab": {
          "base_uri": "https://localhost:8080/"
        },
        "id": "I6Xk5EYGSexx",
        "outputId": "1e4ee1b7-ff70-4fc5-accc-2079e31bca41"
      },
      "source": [
        "boston_df.shape"
      ],
      "execution_count": 8,
      "outputs": [
        {
          "output_type": "execute_result",
          "data": {
            "text/plain": [
              "(506, 18)"
            ]
          },
          "metadata": {
            "tags": []
          },
          "execution_count": 8
        }
      ]
    },
    {
      "cell_type": "markdown",
      "metadata": {
        "id": "3XAyxbwMSkqI"
      },
      "source": [
        "# 03 데이터 타입 확인"
      ]
    },
    {
      "cell_type": "code",
      "metadata": {
        "colab": {
          "base_uri": "https://localhost:8080/"
        },
        "id": "9hbDHSJ9SmP9",
        "outputId": "aa79689d-cc9c-469b-c4b4-1022491e5197"
      },
      "source": [
        "boston_df.info()"
      ],
      "execution_count": 18,
      "outputs": [
        {
          "output_type": "stream",
          "text": [
            "<class 'pandas.core.frame.DataFrame'>\n",
            "RangeIndex: 506 entries, 0 to 505\n",
            "Data columns (total 18 columns):\n",
            " #   Column   Non-Null Count  Dtype  \n",
            "---  ------   --------------  -----  \n",
            " 0   TOWN     506 non-null    object \n",
            " 1   TOWN#    506 non-null    int64  \n",
            " 2   LON      506 non-null    float64\n",
            " 3   LAT      506 non-null    float64\n",
            " 4   CMEDV    506 non-null    float64\n",
            " 5   CRIM     506 non-null    float64\n",
            " 6   ZN       506 non-null    float64\n",
            " 7   INDUS    506 non-null    float64\n",
            " 8   CHAS     506 non-null    int64  \n",
            " 9   NOX      506 non-null    float64\n",
            " 10  RM       506 non-null    float64\n",
            " 11  AGE      506 non-null    float64\n",
            " 12  DIS      506 non-null    float64\n",
            " 13  RAD      506 non-null    int64  \n",
            " 14  TAX      506 non-null    int64  \n",
            " 15  PTRATIO  506 non-null    float64\n",
            " 16  B        506 non-null    float64\n",
            " 17  LSTAT    506 non-null    float64\n",
            "dtypes: float64(13), int64(4), object(1)\n",
            "memory usage: 71.3+ KB\n"
          ],
          "name": "stdout"
        }
      ]
    },
    {
      "cell_type": "markdown",
      "metadata": {
        "id": "xp407yxAUGaY"
      },
      "source": [
        "# 04 결측값 확인"
      ]
    },
    {
      "cell_type": "code",
      "metadata": {
        "colab": {
          "base_uri": "https://localhost:8080/"
        },
        "id": "UpxVvttEUJoU",
        "outputId": "4acb5b72-d87f-45a2-f427-af73c0b10c16"
      },
      "source": [
        "boston_df.isnull().sum()"
      ],
      "execution_count": 13,
      "outputs": [
        {
          "output_type": "execute_result",
          "data": {
            "text/plain": [
              "TOWN       0\n",
              "TOWN#      0\n",
              "LON        0\n",
              "LAT        0\n",
              "CMEDV      0\n",
              "CRIM       0\n",
              "ZN         0\n",
              "INDUS      0\n",
              "CHAS       0\n",
              "NOX        0\n",
              "RM         0\n",
              "AGE        0\n",
              "DIS        0\n",
              "RAD        0\n",
              "TAX        0\n",
              "PTRATIO    0\n",
              "B          0\n",
              "LSTAT      0\n",
              "dtype: int64"
            ]
          },
          "metadata": {
            "tags": []
          },
          "execution_count": 13
        }
      ]
    },
    {
      "cell_type": "markdown",
      "metadata": {
        "id": "452P8uotUTna"
      },
      "source": [
        "# 05 데이터의 수치적 통계 확인"
      ]
    },
    {
      "cell_type": "code",
      "metadata": {
        "colab": {
          "base_uri": "https://localhost:8080/",
          "height": 317
        },
        "id": "xZTsw_hGUVN5",
        "outputId": "2f34b8c2-9dcd-4809-e4bb-ddda097aa07b"
      },
      "source": [
        "boston_df.describe()"
      ],
      "execution_count": 14,
      "outputs": [
        {
          "output_type": "execute_result",
          "data": {
            "text/html": [
              "<div>\n",
              "<style scoped>\n",
              "    .dataframe tbody tr th:only-of-type {\n",
              "        vertical-align: middle;\n",
              "    }\n",
              "\n",
              "    .dataframe tbody tr th {\n",
              "        vertical-align: top;\n",
              "    }\n",
              "\n",
              "    .dataframe thead th {\n",
              "        text-align: right;\n",
              "    }\n",
              "</style>\n",
              "<table border=\"1\" class=\"dataframe\">\n",
              "  <thead>\n",
              "    <tr style=\"text-align: right;\">\n",
              "      <th></th>\n",
              "      <th>TOWN#</th>\n",
              "      <th>LON</th>\n",
              "      <th>LAT</th>\n",
              "      <th>CMEDV</th>\n",
              "      <th>CRIM</th>\n",
              "      <th>ZN</th>\n",
              "      <th>INDUS</th>\n",
              "      <th>CHAS</th>\n",
              "      <th>NOX</th>\n",
              "      <th>RM</th>\n",
              "      <th>AGE</th>\n",
              "      <th>DIS</th>\n",
              "      <th>RAD</th>\n",
              "      <th>TAX</th>\n",
              "      <th>PTRATIO</th>\n",
              "      <th>B</th>\n",
              "      <th>LSTAT</th>\n",
              "    </tr>\n",
              "  </thead>\n",
              "  <tbody>\n",
              "    <tr>\n",
              "      <th>count</th>\n",
              "      <td>506.000000</td>\n",
              "      <td>506.000000</td>\n",
              "      <td>506.000000</td>\n",
              "      <td>506.000000</td>\n",
              "      <td>506.000000</td>\n",
              "      <td>506.000000</td>\n",
              "      <td>506.000000</td>\n",
              "      <td>506.000000</td>\n",
              "      <td>506.000000</td>\n",
              "      <td>506.000000</td>\n",
              "      <td>506.000000</td>\n",
              "      <td>506.000000</td>\n",
              "      <td>506.000000</td>\n",
              "      <td>506.000000</td>\n",
              "      <td>506.000000</td>\n",
              "      <td>506.000000</td>\n",
              "      <td>506.000000</td>\n",
              "    </tr>\n",
              "    <tr>\n",
              "      <th>mean</th>\n",
              "      <td>47.531621</td>\n",
              "      <td>-71.056389</td>\n",
              "      <td>42.216440</td>\n",
              "      <td>22.528854</td>\n",
              "      <td>3.613524</td>\n",
              "      <td>11.363636</td>\n",
              "      <td>11.136779</td>\n",
              "      <td>0.069170</td>\n",
              "      <td>0.554695</td>\n",
              "      <td>6.284634</td>\n",
              "      <td>68.574901</td>\n",
              "      <td>3.795043</td>\n",
              "      <td>9.549407</td>\n",
              "      <td>408.237154</td>\n",
              "      <td>18.455534</td>\n",
              "      <td>356.674032</td>\n",
              "      <td>12.653063</td>\n",
              "    </tr>\n",
              "    <tr>\n",
              "      <th>std</th>\n",
              "      <td>27.571401</td>\n",
              "      <td>0.075405</td>\n",
              "      <td>0.061777</td>\n",
              "      <td>9.182176</td>\n",
              "      <td>8.601545</td>\n",
              "      <td>23.322453</td>\n",
              "      <td>6.860353</td>\n",
              "      <td>0.253994</td>\n",
              "      <td>0.115878</td>\n",
              "      <td>0.702617</td>\n",
              "      <td>28.148861</td>\n",
              "      <td>2.105710</td>\n",
              "      <td>8.707259</td>\n",
              "      <td>168.537116</td>\n",
              "      <td>2.164946</td>\n",
              "      <td>91.294864</td>\n",
              "      <td>7.141062</td>\n",
              "    </tr>\n",
              "    <tr>\n",
              "      <th>min</th>\n",
              "      <td>0.000000</td>\n",
              "      <td>-71.289500</td>\n",
              "      <td>42.030000</td>\n",
              "      <td>5.000000</td>\n",
              "      <td>0.006320</td>\n",
              "      <td>0.000000</td>\n",
              "      <td>0.460000</td>\n",
              "      <td>0.000000</td>\n",
              "      <td>0.385000</td>\n",
              "      <td>3.561000</td>\n",
              "      <td>2.900000</td>\n",
              "      <td>1.129600</td>\n",
              "      <td>1.000000</td>\n",
              "      <td>187.000000</td>\n",
              "      <td>12.600000</td>\n",
              "      <td>0.320000</td>\n",
              "      <td>1.730000</td>\n",
              "    </tr>\n",
              "    <tr>\n",
              "      <th>25%</th>\n",
              "      <td>26.250000</td>\n",
              "      <td>-71.093225</td>\n",
              "      <td>42.180775</td>\n",
              "      <td>17.025000</td>\n",
              "      <td>0.082045</td>\n",
              "      <td>0.000000</td>\n",
              "      <td>5.190000</td>\n",
              "      <td>0.000000</td>\n",
              "      <td>0.449000</td>\n",
              "      <td>5.885500</td>\n",
              "      <td>45.025000</td>\n",
              "      <td>2.100175</td>\n",
              "      <td>4.000000</td>\n",
              "      <td>279.000000</td>\n",
              "      <td>17.400000</td>\n",
              "      <td>375.377500</td>\n",
              "      <td>6.950000</td>\n",
              "    </tr>\n",
              "    <tr>\n",
              "      <th>50%</th>\n",
              "      <td>42.000000</td>\n",
              "      <td>-71.052900</td>\n",
              "      <td>42.218100</td>\n",
              "      <td>21.200000</td>\n",
              "      <td>0.256510</td>\n",
              "      <td>0.000000</td>\n",
              "      <td>9.690000</td>\n",
              "      <td>0.000000</td>\n",
              "      <td>0.538000</td>\n",
              "      <td>6.208500</td>\n",
              "      <td>77.500000</td>\n",
              "      <td>3.207450</td>\n",
              "      <td>5.000000</td>\n",
              "      <td>330.000000</td>\n",
              "      <td>19.050000</td>\n",
              "      <td>391.440000</td>\n",
              "      <td>11.360000</td>\n",
              "    </tr>\n",
              "    <tr>\n",
              "      <th>75%</th>\n",
              "      <td>78.000000</td>\n",
              "      <td>-71.019625</td>\n",
              "      <td>42.252250</td>\n",
              "      <td>25.000000</td>\n",
              "      <td>3.677083</td>\n",
              "      <td>12.500000</td>\n",
              "      <td>18.100000</td>\n",
              "      <td>0.000000</td>\n",
              "      <td>0.624000</td>\n",
              "      <td>6.623500</td>\n",
              "      <td>94.075000</td>\n",
              "      <td>5.188425</td>\n",
              "      <td>24.000000</td>\n",
              "      <td>666.000000</td>\n",
              "      <td>20.200000</td>\n",
              "      <td>396.225000</td>\n",
              "      <td>16.955000</td>\n",
              "    </tr>\n",
              "    <tr>\n",
              "      <th>max</th>\n",
              "      <td>91.000000</td>\n",
              "      <td>-70.810000</td>\n",
              "      <td>42.381000</td>\n",
              "      <td>50.000000</td>\n",
              "      <td>88.976200</td>\n",
              "      <td>100.000000</td>\n",
              "      <td>27.740000</td>\n",
              "      <td>1.000000</td>\n",
              "      <td>0.871000</td>\n",
              "      <td>8.780000</td>\n",
              "      <td>100.000000</td>\n",
              "      <td>12.126500</td>\n",
              "      <td>24.000000</td>\n",
              "      <td>711.000000</td>\n",
              "      <td>22.000000</td>\n",
              "      <td>396.900000</td>\n",
              "      <td>37.970000</td>\n",
              "    </tr>\n",
              "  </tbody>\n",
              "</table>\n",
              "</div>"
            ],
            "text/plain": [
              "            TOWN#         LON         LAT  ...     PTRATIO           B       LSTAT\n",
              "count  506.000000  506.000000  506.000000  ...  506.000000  506.000000  506.000000\n",
              "mean    47.531621  -71.056389   42.216440  ...   18.455534  356.674032   12.653063\n",
              "std     27.571401    0.075405    0.061777  ...    2.164946   91.294864    7.141062\n",
              "min      0.000000  -71.289500   42.030000  ...   12.600000    0.320000    1.730000\n",
              "25%     26.250000  -71.093225   42.180775  ...   17.400000  375.377500    6.950000\n",
              "50%     42.000000  -71.052900   42.218100  ...   19.050000  391.440000   11.360000\n",
              "75%     78.000000  -71.019625   42.252250  ...   20.200000  396.225000   16.955000\n",
              "max     91.000000  -70.810000   42.381000  ...   22.000000  396.900000   37.970000\n",
              "\n",
              "[8 rows x 17 columns]"
            ]
          },
          "metadata": {
            "tags": []
          },
          "execution_count": 14
        }
      ]
    },
    {
      "cell_type": "code",
      "metadata": {
        "colab": {
          "base_uri": "https://localhost:8080/"
        },
        "id": "MEnOe7IkUiZE",
        "outputId": "02daedb4-12c0-4516-e5a9-a95d202eba4d"
      },
      "source": [
        "boston_df['NOX'].describe()"
      ],
      "execution_count": 15,
      "outputs": [
        {
          "output_type": "execute_result",
          "data": {
            "text/plain": [
              "count    506.000000\n",
              "mean       0.554695\n",
              "std        0.115878\n",
              "min        0.385000\n",
              "25%        0.449000\n",
              "50%        0.538000\n",
              "75%        0.624000\n",
              "max        0.871000\n",
              "Name: NOX, dtype: float64"
            ]
          },
          "metadata": {
            "tags": []
          },
          "execution_count": 15
        }
      ]
    },
    {
      "cell_type": "code",
      "metadata": {
        "id": "XOFOj_WfVlLD"
      },
      "source": [
        ""
      ],
      "execution_count": null,
      "outputs": []
    },
    {
      "cell_type": "markdown",
      "metadata": {
        "id": "VgXtSEkUWZZO"
      },
      "source": [
        "# 06 Q1. 탐색적 데이터 분석을 통해 각종 차트로 시각화해봅시다."
      ]
    },
    {
      "cell_type": "markdown",
      "metadata": {
        "id": "7K0Klj_sWpOE"
      },
      "source": [
        "06.01 바 차트"
      ]
    },
    {
      "cell_type": "code",
      "metadata": {
        "colab": {
          "base_uri": "https://localhost:8080/"
        },
        "id": "QuB4oNJgWoRp",
        "outputId": "7d668b47-b148-45b8-93bb-e1f58b5dcc47"
      },
      "source": [
        "boston_df['RAD'].value_counts()"
      ],
      "execution_count": 21,
      "outputs": [
        {
          "output_type": "execute_result",
          "data": {
            "text/plain": [
              "24    132\n",
              "5     115\n",
              "4     110\n",
              "3      38\n",
              "6      26\n",
              "8      24\n",
              "2      24\n",
              "1      20\n",
              "7      17\n",
              "Name: RAD, dtype: int64"
            ]
          },
          "metadata": {
            "tags": []
          },
          "execution_count": 21
        }
      ]
    },
    {
      "cell_type": "code",
      "metadata": {
        "colab": {
          "base_uri": "https://localhost:8080/",
          "height": 302
        },
        "id": "dtkTa53XXuPm",
        "outputId": "2d174a5c-f17e-4fd5-a378-d45f62aefb42"
      },
      "source": [
        "boston_df['RAD'].value_counts().plot(kind='bar', title='RAD Bar Chart')"
      ],
      "execution_count": 22,
      "outputs": [
        {
          "output_type": "execute_result",
          "data": {
            "text/plain": [
              "<matplotlib.axes._subplots.AxesSubplot at 0x7f497dc11710>"
            ]
          },
          "metadata": {
            "tags": []
          },
          "execution_count": 22
        },
        {
          "output_type": "display_data",
          "data": {
            "image/png": "[encoded data removed]",
            "text/plain": [
              "<Figure size 432x288 with 1 Axes>"
            ]
          },
          "metadata": {
            "tags": [],
            "needs_background": "light"
          }
        }
      ]
    },
    {
      "cell_type": "code",
      "metadata": {
        "id": "VWp-YicjYQ6v"
      },
      "source": [
        "import seaborn as sns"
      ],
      "execution_count": null,
      "outputs": []
    },
    {
      "cell_type": "markdown",
      "metadata": {
        "id": "LVU4_oUcYKgI"
      },
      "source": [
        "06.02 히스토그램"
      ]
    },
    {
      "cell_type": "code",
      "metadata": {
        "id": "xM09yYptYNTS"
      },
      "source": [
        ""
      ],
      "execution_count": null,
      "outputs": []
    }
  ]
}