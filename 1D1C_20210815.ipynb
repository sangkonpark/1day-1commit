{
  "nbformat": 4,
  "nbformat_minor": 0,
  "metadata": {
    "colab": {
      "name": "1D1C_20210815.ipynb",
      "private_outputs": true,
      "provenance": [],
      "authorship_tag": "ABX9TyN6sR8DPao+juWdmfJ17bZY",
      "include_colab_link": true
    },
    "kernelspec": {
      "name": "python3",
      "display_name": "Python 3"
    },
    "language_info": {
      "name": "python"
    }
  },
  "cells": [
    {
      "cell_type": "markdown",
      "metadata": {
        "id": "view-in-github",
        "colab_type": "text"
      },
      "source": [
        "<a href=\"https://colab.research.google.com/github/sangkonpark/1day-1commit/blob/main/1D1C_20210815.ipynb\" target=\"_parent\"><img src=\"https://colab.research.google.com/assets/colab-badge.svg\" alt=\"Open In Colab\"/></a>"
      ]
    },
    {
      "cell_type": "markdown",
      "metadata": {
        "id": "YuZmmS4z8He_"
      },
      "source": [
        "# 문자열 자료형 _ 문자열 포매팅"
      ]
    },
    {
      "cell_type": "code",
      "metadata": {
        "id": "QJl7XqRR8Lwt"
      },
      "source": [
        "# 숫자 바로 대입\n",
        "\"I eat %d apples.\" % 3"
      ],
      "execution_count": null,
      "outputs": []
    },
    {
      "cell_type": "code",
      "metadata": {
        "id": "aOi85Geg8hIO"
      },
      "source": [
        "# 문자열 바로 대입\n",
        "\"I eat %s apples.\" % \"five\""
      ],
      "execution_count": null,
      "outputs": []
    },
    {
      "cell_type": "code",
      "metadata": {
        "id": "bx-xhcDZ8i4I"
      },
      "source": [
        "# 숫자 값을 나타내는 변수로 대입\n",
        "number =3\n",
        "\"I eat %d apples.\" % number"
      ],
      "execution_count": null,
      "outputs": []
    },
    {
      "cell_type": "code",
      "metadata": {
        "id": "KH0No7vo8weq"
      },
      "source": [
        "# 2개 이상의 값 넣기\n",
        "number = 10\n",
        "day = \"three\"\n",
        "\"I ate %d apples. so I was sick for %s days.\" % (number, day)"
      ],
      "execution_count": null,
      "outputs": []
    },
    {
      "cell_type": "markdown",
      "metadata": {
        "id": "GQOhVSfe9XaP"
      },
      "source": [
        "# 리스트 자료형"
      ]
    },
    {
      "cell_type": "code",
      "metadata": {
        "id": "RwJx9JdI8_Z8"
      },
      "source": [
        "a = [1, 2, 3, ['a', 'b', 'c']]"
      ],
      "execution_count": null,
      "outputs": []
    },
    {
      "cell_type": "code",
      "metadata": {
        "id": "zF3hnPlK91lh"
      },
      "source": [
        "a[0]"
      ],
      "execution_count": null,
      "outputs": []
    },
    {
      "cell_type": "code",
      "metadata": {
        "id": "DKHAmRZ7937M"
      },
      "source": [
        "a[-1]"
      ],
      "execution_count": null,
      "outputs": []
    },
    {
      "cell_type": "code",
      "metadata": {
        "id": "MG9wo_pP95ZS"
      },
      "source": [
        "a[3]"
      ],
      "execution_count": null,
      "outputs": []
    },
    {
      "cell_type": "code",
      "metadata": {
        "id": "b6_-wEdP964k"
      },
      "source": [
        "#리스트 a에 포함된 ['a', 'b', 'c']리스트에서 'a'값을 인덱싱을 사용해 끄집어 낼 수 있는 방법\n",
        "a[-1][-1]"
      ],
      "execution_count": null,
      "outputs": []
    },
    {
      "cell_type": "code",
      "metadata": {
        "id": "aobE1B0H982A"
      },
      "source": [
        "#리스트에 요소 추가(append)\n",
        "a = [1,2,3]\n",
        "a.append(4)\n",
        "a"
      ],
      "execution_count": null,
      "outputs": []
    },
    {
      "cell_type": "code",
      "metadata": {
        "id": "_dTqDIua-v2c"
      },
      "source": [
        "a.append([5,6])\n",
        "a"
      ],
      "execution_count": null,
      "outputs": []
    },
    {
      "cell_type": "code",
      "metadata": {
        "id": "WGXriCPo-0uY"
      },
      "source": [
        "del a[4]\n",
        "a"
      ],
      "execution_count": null,
      "outputs": []
    },
    {
      "cell_type": "code",
      "metadata": {
        "id": "MSGxK9nC-67e"
      },
      "source": [
        "#리스트에 요소 삽입(insert) a번째 위치에 b를 삽입하는 함수\n",
        "a = [1,2,3]\n",
        "a.insert(0,4)\n",
        "a"
      ],
      "execution_count": null,
      "outputs": []
    },
    {
      "cell_type": "code",
      "metadata": {
        "id": "Z7svUQW__IAA"
      },
      "source": [
        "a.sort()\n",
        "a"
      ],
      "execution_count": null,
      "outputs": []
    },
    {
      "cell_type": "markdown",
      "metadata": {
        "id": "Oq87p1ox_WdN"
      },
      "source": [
        "# 튜플 자료형"
      ]
    },
    {
      "cell_type": "markdown",
      "metadata": {
        "id": "Kh4fP_Hb_aYd"
      },
      "source": [
        "\n",
        "\n",
        "*   리스트는 [ ]으로 둘러싸지만 튜플은 ( )으로 둘러싼다.\n",
        "*   리스트는 그 값의 생성, 삭제, 수정이 가능하지만 튜플은 그 값을 바꿀 수 없다.\n"
      ]
    },
    {
      "cell_type": "code",
      "metadata": {
        "id": "Tqlqx4Ms_LSJ"
      },
      "source": [
        ""
      ],
      "execution_count": null,
      "outputs": []
    }
  ]
}